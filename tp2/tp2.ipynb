{
 "cells": [
  {
   "cell_type": "code",
   "execution_count": 1,
   "metadata": {},
   "outputs": [],
   "source": [
    "import networkx as nx\n",
    "import numpy as np\n",
    "import math\n",
    "import matplotlib as plt\n",
    "import random"
   ]
  },
  {
   "cell_type": "code",
   "execution_count": 2,
   "metadata": {},
   "outputs": [],
   "source": [
    "def rand_pts(tam_i, rand_min=0, rand_max=100):\n",
    "    pts = []\n",
    "    for i in range(2**tam_i):\n",
    "        p = np.random.randint(rand_min, rand_max, 2)\n",
    "        pts.append(p)\n",
    "    return pts"
   ]
  },
  {
   "cell_type": "code",
   "execution_count": 3,
   "metadata": {},
   "outputs": [],
   "source": [
    "def euclid_dist(pts):\n",
    "    edges = []\n",
    "    for i in range(len(pts)):\n",
    "        for j in range(len(pts)):\n",
    "            if i != j:\n",
    "                edges.append([i, j, abs(np.linalg.norm(pts[i]-pts[j]))])\n",
    "    return edges"
   ]
  },
  {
   "cell_type": "code",
   "execution_count": 4,
   "metadata": {},
   "outputs": [],
   "source": [
    "def manhat_dist(pts):\n",
    "    edges = []\n",
    "    for i in range(len(pts)):\n",
    "        for j in range(len(pts)):\n",
    "            if i != j:\n",
    "                edges.append([i, j, np.sum(np.abs(pts[i][0]-pts[j][0]))])\n",
    "    return edges"
   ]
  },
  {
   "cell_type": "code",
   "execution_count": 5,
   "metadata": {},
   "outputs": [],
   "source": [
    "def create_graph_manhat(pts):\n",
    "    G = nx.Graph()\n",
    "    edges = manhat_dist(pts)\n",
    "    G.add_weighted_edges_from(edges)\n",
    "    return G"
   ]
  },
  {
   "cell_type": "code",
   "execution_count": 6,
   "metadata": {},
   "outputs": [],
   "source": [
    "def create_graph_euclid(pts):\n",
    "    G = nx.Graph()\n",
    "    edges = euclid_dist(pts)\n",
    "    G.add_weighted_edges_from(edges)\n",
    "    return G"
   ]
  },
  {
   "cell_type": "code",
   "execution_count": 7,
   "metadata": {},
   "outputs": [],
   "source": [
    "def min_weight_matching(G):\n",
    "    #encontrando o maior peso do subgrafo\n",
    "    max_weight = -math.inf\n",
    "    for (u, v) in G.edges():\n",
    "        w = G[u][v]['weight']\n",
    "        max_weight = w if w > max_weight else max_weight\n",
    "        \n",
    "    #fazendo com que os maiores valores do sub grafo virem menores e vice versa\n",
    "    for (u, v) in G.edges():\n",
    "        G[u][v]['weight'] = max_weight - G[u][v]['weight'] \n",
    "        \n",
    "    return nx.max_weight_matching(G, maxcardinality=True)"
   ]
  },
  {
   "cell_type": "code",
   "execution_count": 8,
   "metadata": {},
   "outputs": [],
   "source": [
    "def weight_result(G, result):\n",
    "    w = 0\n",
    "    for i in range(len(result)-1):\n",
    "        w += G[result[i]][result[i+1]]['weight']\n",
    "    return w"
   ]
  },
  {
   "cell_type": "code",
   "execution_count": 9,
   "metadata": {},
   "outputs": [],
   "source": [
    "def twice_around(G):\n",
    "    \n",
    "    #calcular arvore geradora minima T\n",
    "    T=nx.minimum_spanning_tree(G)\n",
    "    \n",
    "    #montar a lista de vertices de uma caminhada em preordem na arvore T\n",
    "    result = list(nx.dfs_preorder_nodes(T, source=0))\n",
    "    result.append(0)\n",
    "    \n",
    "    #calculo do peso final da resposta\n",
    "    w = weight_result(G, result)\n",
    "        \n",
    "    return result, w"
   ]
  },
  {
   "cell_type": "code",
   "execution_count": 17,
   "metadata": {},
   "outputs": [],
   "source": [
    "def christofides(G):\n",
    "    \n",
    "    #calcular arvore geradora minima T\n",
    "    T=nx.minimum_spanning_tree(G)\n",
    "    \n",
    "    #calcular o conjunto de vertices com grau impar em T\n",
    "    d_list = list(T.degree(T.nodes))\n",
    "    odd = []\n",
    "    for i in range(len(d_list)):\n",
    "        if d_list[i][1]%2 == 1:\n",
    "            odd.append(d_list[i][0])\n",
    "            \n",
    "    #formar subgrafo de g com os vertices encontrados\n",
    "    sub_G = G.subgraph(odd)\n",
    "    \n",
    "    #construir acoplamento perfeito de peso minimo no subgrafo M\n",
    "    min_matching = min_weight_matching(sub_G)\n",
    "    M = G.edge_subgraph(min_matching)\n",
    "    \n",
    "    #unir o emparelhamento M e a arvore geradora T para formar um multigrafo\n",
    "    multigraph = nx.MultiGraph()\n",
    "    multigraph.add_weighted_edges_from(T.edges.data('weight'))\n",
    "    multigraph.add_weighted_edges_from(M.edges.data('weight'))\n",
    "    \n",
    "    #calcular o circuito euleriano\n",
    "    eulerian_c = [u for u, v in nx.eulerian_circuit(multigraph)]\n",
    "    \n",
    "    #remover os vertices repetidos\n",
    "    result = list(dict.fromkeys(eulerian_c))\n",
    "    result.append(0)\n",
    "    \n",
    "    #calculo do peso final da resposta\n",
    "    w = weight_result(G, result)\n",
    "    \n",
    "    return result, w"
   ]
  },
  {
   "cell_type": "code",
   "execution_count": 16,
   "metadata": {},
   "outputs": [
    {
     "data": {
      "image/png": "[encoded data removed]",
      "text/plain": [
       "<Figure size 432x288 with 1 Axes>"
      ]
     },
     "metadata": {},
     "output_type": "display_data"
    }
   ],
   "source": [
    "edges = [\n",
    "    (0, 1, 4),\n",
    "    (0, 2, 8),\n",
    "    (0, 3, 9),\n",
    "    (0, 4, 12),\n",
    "    \n",
    "    (1, 2, 6),\n",
    "    (1, 3, 8),\n",
    "    (1, 4, 9),\n",
    "    \n",
    "    (2, 3, 10),\n",
    "    (2, 4, 11),\n",
    "    \n",
    "    (3, 4, 7)\n",
    "]\n",
    "\n",
    "G = nx.Graph()\n",
    "G.add_weighted_edges_from(edges)\n",
    "nx.draw(G, with_labels=True, font_weight='bold')"
   ]
  },
  {
   "cell_type": "code",
   "execution_count": 12,
   "metadata": {},
   "outputs": [
    {
     "data": {
      "text/plain": [
       "([0, 1, 2, 3, 4, 0], 39)"
      ]
     },
     "execution_count": 12,
     "metadata": {},
     "output_type": "execute_result"
    }
   ],
   "source": [
    "twice_around(G)"
   ]
  },
  {
   "cell_type": "code",
   "execution_count": 18,
   "metadata": {},
   "outputs": [
    {
     "data": {
      "text/plain": [
       "([0, 1, 3, 4, 2, 0], 28)"
      ]
     },
     "execution_count": 18,
     "metadata": {},
     "output_type": "execute_result"
    }
   ],
   "source": [
    "christofides(G)"
   ]
  },
  {
   "cell_type": "code",
   "execution_count": 15,
   "metadata": {},
   "outputs": [],
   "source": [
    "# max_e = sorted(sub_G.edges(data=True),key= lambda x: x[2]['weight'],reverse=True)[0][2]['weight']\n",
    "# max_e"
   ]
  },
  {
   "cell_type": "code",
   "execution_count": null,
   "metadata": {},
   "outputs": [],
   "source": []
  }
 ],
 "metadata": {
  "kernelspec": {
   "display_name": "Python 3",
   "language": "python",
   "name": "python3"
  },
  "language_info": {
   "codemirror_mode": {
    "name": "ipython",
    "version": 3
   },
   "file_extension": ".py",
   "mimetype": "text/x-python",
   "name": "python",
   "nbconvert_exporter": "python",
   "pygments_lexer": "ipython3",
   "version": "3.6.5"
  }
 },
 "nbformat": 4,
 "nbformat_minor": 2
}
